{
  "nbformat": 4,
  "nbformat_minor": 0,
  "metadata": {
    "colab": {
      "provenance": [],
      "authorship_tag": "ABX9TyPTIC+7ioawdbbVV5cD6K36",
      "include_colab_link": true
    },
    "kernelspec": {
      "name": "python3",
      "display_name": "Python 3"
    },
    "language_info": {
      "name": "python"
    }
  },
  "cells": [
    {
      "cell_type": "markdown",
      "metadata": {
        "id": "view-in-github",
        "colab_type": "text"
      },
      "source": [
        "<a href=\"https://colab.research.google.com/github/iqbaltegar1/Data-Mining/blob/main/Preprocessing_Data.ipynb\" target=\"_parent\"><img src=\"https://colab.research.google.com/assets/colab-badge.svg\" alt=\"Open In Colab\"/></a>"
      ]
    },
    {
      "cell_type": "code",
      "execution_count": 157,
      "metadata": {
        "id": "fh02iLwxfTMv"
      },
      "outputs": [],
      "source": [
        "import numpy as np\n",
        "import matplotlib.pyplot as plt\n",
        "import pandas as pd"
      ]
    },
    {
      "cell_type": "markdown",
      "source": [
        "Numpy merupakan library python di gunakan untuk komputasi matriks.\n",
        "Matplotlib merupakan library  python untuk presentasi data berupa grafik atau plot...."
      ],
      "metadata": {
        "id": "poyVmCWjiWNm"
      }
    },
    {
      "cell_type": "code",
      "source": [
        "dataset = pd.read_csv('Data.csv', delimiter=';')\n",
        "x = dataset.iloc[:, :-2].values\n",
        "y = dataset.iloc[:, -2].values"
      ],
      "metadata": {
        "id": "I3I2S7kOixbo"
      },
      "execution_count": 158,
      "outputs": []
    },
    {
      "cell_type": "code",
      "source": [
        "print(x)"
      ],
      "metadata": {
        "colab": {
          "base_uri": "https://localhost:8080/"
        },
        "id": "D_yMMnCs1qZd",
        "outputId": "793fd992-2d88-4abd-efb3-545a0db9a264"
      },
      "execution_count": 159,
      "outputs": [
        {
          "output_type": "stream",
          "name": "stdout",
          "text": [
            "[['Andi' 25.0 5000.0]\n",
            " ['Budi' 30.0 6000.0]\n",
            " ['Cici' 22.0 4500.0]\n",
            " ['Dedi' 28.0 5500.0]\n",
            " ['Evi' nan 5200.0]\n",
            " ['Fajar' 35.0 7000.0]\n",
            " ['Gita' 27.0 nan]\n",
            " ['Hari' 31.0 5800.0]\n",
            " ['Intan' 24.0 4900.0]\n",
            " ['Joko' 29.0 6100.0]]\n"
          ]
        }
      ]
    },
    {
      "cell_type": "code",
      "metadata": {
        "colab": {
          "base_uri": "https://localhost:8080/"
        },
        "id": "01249bd3",
        "outputId": "bb9028bc-242f-4e46-fd91-6509efec6f09"
      },
      "source": [
        "print(y)"
      ],
      "execution_count": 160,
      "outputs": [
        {
          "output_type": "stream",
          "name": "stdout",
          "text": [
            "['Yes' 'No' 'No' 'No' 'Yes' 'No' 'Yes' 'Yes' 'Yes' 'No']\n"
          ]
        }
      ]
    },
    {
      "cell_type": "code",
      "source": [
        "from sklearn.impute import SimpleImputer\n",
        "imputer = SimpleImputer(missing_values=np.nan, strategy='mean')\n",
        "imputer.fit(x[:, 1:3])\n",
        "x[:, 1:3] = imputer.transform(x[:, 1:3])"
      ],
      "metadata": {
        "id": "QpbxTxX73NkZ"
      },
      "execution_count": 161,
      "outputs": []
    },
    {
      "cell_type": "code",
      "source": [
        "print(x)"
      ],
      "metadata": {
        "colab": {
          "base_uri": "https://localhost:8080/"
        },
        "id": "k0624IY14OLo",
        "outputId": "bbfdd133-a945-46f9-ca94-1b9d9c52c0f5"
      },
      "execution_count": 162,
      "outputs": [
        {
          "output_type": "stream",
          "name": "stdout",
          "text": [
            "[['Andi' 25.0 5000.0]\n",
            " ['Budi' 30.0 6000.0]\n",
            " ['Cici' 22.0 4500.0]\n",
            " ['Dedi' 28.0 5500.0]\n",
            " ['Evi' 27.88888888888889 5200.0]\n",
            " ['Fajar' 35.0 7000.0]\n",
            " ['Gita' 27.0 5555.555555555556]\n",
            " ['Hari' 31.0 5800.0]\n",
            " ['Intan' 24.0 4900.0]\n",
            " ['Joko' 29.0 6100.0]]\n"
          ]
        }
      ]
    },
    {
      "cell_type": "code",
      "source": [
        "print(y)"
      ],
      "metadata": {
        "colab": {
          "base_uri": "https://localhost:8080/"
        },
        "id": "ndbcI2cE4Rm3",
        "outputId": "188f9fcb-73cd-452e-ed73-f21cb58f4589"
      },
      "execution_count": 163,
      "outputs": [
        {
          "output_type": "stream",
          "name": "stdout",
          "text": [
            "['Yes' 'No' 'No' 'No' 'Yes' 'No' 'Yes' 'Yes' 'Yes' 'No']\n"
          ]
        }
      ]
    },
    {
      "cell_type": "code",
      "source": [
        "from sklearn.compose import ColumnTransformer\n",
        "from sklearn.preprocessing import OneHotEncoder\n",
        "import numpy as np\n",
        "\n",
        "# Convert numerical columns to float\n",
        "x[:, 1:3] = x[:, 1:3].astype(float)\n",
        "\n",
        "ct = ColumnTransformer(transformers=[('encoder', OneHotEncoder(), [0])],remainder='passthrough')\n",
        "x = ct.fit_transform(x).toarray() # Convert to dense array here"
      ],
      "metadata": {
        "id": "JVyDZLhd4XO0"
      },
      "execution_count": 164,
      "outputs": []
    },
    {
      "cell_type": "code",
      "source": [
        "print(x)"
      ],
      "metadata": {
        "colab": {
          "base_uri": "https://localhost:8080/"
        },
        "id": "fn561xFp5lGk",
        "outputId": "a8a0f73b-49bd-4475-aab9-42f5dc92415c"
      },
      "execution_count": 165,
      "outputs": [
        {
          "output_type": "stream",
          "name": "stdout",
          "text": [
            "[[1.00000000e+00 0.00000000e+00 0.00000000e+00 0.00000000e+00\n",
            "  0.00000000e+00 0.00000000e+00 0.00000000e+00 0.00000000e+00\n",
            "  0.00000000e+00 0.00000000e+00 2.50000000e+01 5.00000000e+03]\n",
            " [0.00000000e+00 1.00000000e+00 0.00000000e+00 0.00000000e+00\n",
            "  0.00000000e+00 0.00000000e+00 0.00000000e+00 0.00000000e+00\n",
            "  0.00000000e+00 0.00000000e+00 3.00000000e+01 6.00000000e+03]\n",
            " [0.00000000e+00 0.00000000e+00 1.00000000e+00 0.00000000e+00\n",
            "  0.00000000e+00 0.00000000e+00 0.00000000e+00 0.00000000e+00\n",
            "  0.00000000e+00 0.00000000e+00 2.20000000e+01 4.50000000e+03]\n",
            " [0.00000000e+00 0.00000000e+00 0.00000000e+00 1.00000000e+00\n",
            "  0.00000000e+00 0.00000000e+00 0.00000000e+00 0.00000000e+00\n",
            "  0.00000000e+00 0.00000000e+00 2.80000000e+01 5.50000000e+03]\n",
            " [0.00000000e+00 0.00000000e+00 0.00000000e+00 0.00000000e+00\n",
            "  1.00000000e+00 0.00000000e+00 0.00000000e+00 0.00000000e+00\n",
            "  0.00000000e+00 0.00000000e+00 2.78888889e+01 5.20000000e+03]\n",
            " [0.00000000e+00 0.00000000e+00 0.00000000e+00 0.00000000e+00\n",
            "  0.00000000e+00 1.00000000e+00 0.00000000e+00 0.00000000e+00\n",
            "  0.00000000e+00 0.00000000e+00 3.50000000e+01 7.00000000e+03]\n",
            " [0.00000000e+00 0.00000000e+00 0.00000000e+00 0.00000000e+00\n",
            "  0.00000000e+00 0.00000000e+00 1.00000000e+00 0.00000000e+00\n",
            "  0.00000000e+00 0.00000000e+00 2.70000000e+01 5.55555556e+03]\n",
            " [0.00000000e+00 0.00000000e+00 0.00000000e+00 0.00000000e+00\n",
            "  0.00000000e+00 0.00000000e+00 0.00000000e+00 1.00000000e+00\n",
            "  0.00000000e+00 0.00000000e+00 3.10000000e+01 5.80000000e+03]\n",
            " [0.00000000e+00 0.00000000e+00 0.00000000e+00 0.00000000e+00\n",
            "  0.00000000e+00 0.00000000e+00 0.00000000e+00 0.00000000e+00\n",
            "  1.00000000e+00 0.00000000e+00 2.40000000e+01 4.90000000e+03]\n",
            " [0.00000000e+00 0.00000000e+00 0.00000000e+00 0.00000000e+00\n",
            "  0.00000000e+00 0.00000000e+00 0.00000000e+00 0.00000000e+00\n",
            "  0.00000000e+00 1.00000000e+00 2.90000000e+01 6.10000000e+03]]\n"
          ]
        }
      ]
    },
    {
      "cell_type": "code",
      "source": [
        "from sklearn.preprocessing import LabelEncoder\n",
        "le = LabelEncoder()\n",
        "y = le.fit_transform(y)"
      ],
      "metadata": {
        "id": "Q1DUCjCt6BY_"
      },
      "execution_count": 166,
      "outputs": []
    },
    {
      "cell_type": "code",
      "source": [
        "print(y)"
      ],
      "metadata": {
        "colab": {
          "base_uri": "https://localhost:8080/"
        },
        "id": "_44Gv-CM6fhz",
        "outputId": "079b44eb-4d25-4d38-c4bf-5ebec21c50c1"
      },
      "execution_count": 167,
      "outputs": [
        {
          "output_type": "stream",
          "name": "stdout",
          "text": [
            "[1 0 0 0 1 0 1 1 1 0]\n"
          ]
        }
      ]
    },
    {
      "cell_type": "code",
      "metadata": {
        "id": "f7ccf222"
      },
      "source": [
        "from sklearn.model_selection import train_test_split\n",
        "x_train, x_test, y_train, y_test = train_test_split(x, y, test_size=0.2, random_state=1)"
      ],
      "execution_count": 168,
      "outputs": []
    },
    {
      "cell_type": "code",
      "source": [
        "print(x_train)"
      ],
      "metadata": {
        "colab": {
          "base_uri": "https://localhost:8080/"
        },
        "id": "wP3npYm7-Q4m",
        "outputId": "436aa149-737e-4167-ebeb-68217ec24fca"
      },
      "execution_count": 169,
      "outputs": [
        {
          "output_type": "stream",
          "name": "stdout",
          "text": [
            "[[0.00000000e+00 0.00000000e+00 0.00000000e+00 0.00000000e+00\n",
            "  0.00000000e+00 0.00000000e+00 1.00000000e+00 0.00000000e+00\n",
            "  0.00000000e+00 0.00000000e+00 2.70000000e+01 5.55555556e+03]\n",
            " [0.00000000e+00 0.00000000e+00 0.00000000e+00 0.00000000e+00\n",
            "  1.00000000e+00 0.00000000e+00 0.00000000e+00 0.00000000e+00\n",
            "  0.00000000e+00 0.00000000e+00 2.78888889e+01 5.20000000e+03]\n",
            " [1.00000000e+00 0.00000000e+00 0.00000000e+00 0.00000000e+00\n",
            "  0.00000000e+00 0.00000000e+00 0.00000000e+00 0.00000000e+00\n",
            "  0.00000000e+00 0.00000000e+00 2.50000000e+01 5.00000000e+03]\n",
            " [0.00000000e+00 0.00000000e+00 0.00000000e+00 1.00000000e+00\n",
            "  0.00000000e+00 0.00000000e+00 0.00000000e+00 0.00000000e+00\n",
            "  0.00000000e+00 0.00000000e+00 2.80000000e+01 5.50000000e+03]\n",
            " [0.00000000e+00 1.00000000e+00 0.00000000e+00 0.00000000e+00\n",
            "  0.00000000e+00 0.00000000e+00 0.00000000e+00 0.00000000e+00\n",
            "  0.00000000e+00 0.00000000e+00 3.00000000e+01 6.00000000e+03]\n",
            " [0.00000000e+00 0.00000000e+00 0.00000000e+00 0.00000000e+00\n",
            "  0.00000000e+00 0.00000000e+00 0.00000000e+00 1.00000000e+00\n",
            "  0.00000000e+00 0.00000000e+00 3.10000000e+01 5.80000000e+03]\n",
            " [0.00000000e+00 0.00000000e+00 0.00000000e+00 0.00000000e+00\n",
            "  0.00000000e+00 0.00000000e+00 0.00000000e+00 0.00000000e+00\n",
            "  1.00000000e+00 0.00000000e+00 2.40000000e+01 4.90000000e+03]\n",
            " [0.00000000e+00 0.00000000e+00 0.00000000e+00 0.00000000e+00\n",
            "  0.00000000e+00 1.00000000e+00 0.00000000e+00 0.00000000e+00\n",
            "  0.00000000e+00 0.00000000e+00 3.50000000e+01 7.00000000e+03]]\n"
          ]
        }
      ]
    },
    {
      "cell_type": "code",
      "source": [
        "print(x_test)"
      ],
      "metadata": {
        "colab": {
          "base_uri": "https://localhost:8080/"
        },
        "id": "3LFmBMIj-dOb",
        "outputId": "778d1f51-87d9-400e-affe-a51c1c81364f"
      },
      "execution_count": 170,
      "outputs": [
        {
          "output_type": "stream",
          "name": "stdout",
          "text": [
            "[[0.0e+00 0.0e+00 1.0e+00 0.0e+00 0.0e+00 0.0e+00 0.0e+00 0.0e+00 0.0e+00\n",
            "  0.0e+00 2.2e+01 4.5e+03]\n",
            " [0.0e+00 0.0e+00 0.0e+00 0.0e+00 0.0e+00 0.0e+00 0.0e+00 0.0e+00 0.0e+00\n",
            "  1.0e+00 2.9e+01 6.1e+03]]\n"
          ]
        }
      ]
    },
    {
      "cell_type": "code",
      "source": [
        "print(y_train)"
      ],
      "metadata": {
        "colab": {
          "base_uri": "https://localhost:8080/"
        },
        "id": "yuiV8AcP-0OG",
        "outputId": "8fdaad6b-81c7-4fad-9afa-e376f6a449fe"
      },
      "execution_count": 171,
      "outputs": [
        {
          "output_type": "stream",
          "name": "stdout",
          "text": [
            "[1 1 1 0 0 1 1 0]\n"
          ]
        }
      ]
    },
    {
      "cell_type": "code",
      "source": [
        "print(y_test)"
      ],
      "metadata": {
        "colab": {
          "base_uri": "https://localhost:8080/"
        },
        "id": "sItO3GcX--iU",
        "outputId": "9fd50a54-c061-4a06-facf-b0c2a4703b2b"
      },
      "execution_count": 172,
      "outputs": [
        {
          "output_type": "stream",
          "name": "stdout",
          "text": [
            "[0 0]\n"
          ]
        }
      ]
    },
    {
      "cell_type": "code",
      "source": [
        "from sklearn.preprocessing import  StandardScaler\n",
        "sc = StandardScaler()\n",
        "x_train[:, 3:] = sc.fit_transform(x_train[:, 3:])\n",
        "x_test[:, 3:] = sc.transform(x_test[:, 3:])"
      ],
      "metadata": {
        "id": "YNgqSv-e_G7f"
      },
      "execution_count": 174,
      "outputs": []
    },
    {
      "cell_type": "code",
      "source": [
        "print(x_train)"
      ],
      "metadata": {
        "colab": {
          "base_uri": "https://localhost:8080/"
        },
        "id": "k0tT11ezARMs",
        "outputId": "9aacd743-b03a-4fa0-a395-2fac36c839d8"
      },
      "execution_count": 175,
      "outputs": [
        {
          "output_type": "stream",
          "name": "stdout",
          "text": [
            "[[ 0.          0.          0.         -0.37796447 -0.37796447 -0.37796447\n",
            "   2.64575131 -0.37796447 -0.37796447  0.         -0.45293871 -0.10135109]\n",
            " [ 0.          0.          0.         -0.37796447  2.64575131 -0.37796447\n",
            "  -0.37796447 -0.37796447 -0.37796447  0.         -0.1820221  -0.66539196]\n",
            " [ 1.          0.          0.         -0.37796447 -0.37796447 -0.37796447\n",
            "  -0.37796447 -0.37796447 -0.37796447  0.         -1.06250109 -0.98266495]\n",
            " [ 0.          0.          0.          2.64575131 -0.37796447 -0.37796447\n",
            "  -0.37796447 -0.37796447 -0.37796447  0.         -0.14815752 -0.18948248]\n",
            " [ 0.          1.          0.         -0.37796447 -0.37796447 -0.37796447\n",
            "  -0.37796447 -0.37796447 -0.37796447  0.          0.46140485  0.60369999]\n",
            " [ 0.          0.          0.         -0.37796447 -0.37796447 -0.37796447\n",
            "  -0.37796447  2.64575131 -0.37796447  0.          0.76618604  0.286427  ]\n",
            " [ 0.          0.          0.         -0.37796447 -0.37796447 -0.37796447\n",
            "  -0.37796447 -0.37796447  2.64575131  0.         -1.36728228 -1.14130144]\n",
            " [ 0.          0.          0.         -0.37796447 -0.37796447  2.64575131\n",
            "  -0.37796447 -0.37796447 -0.37796447  0.          1.9853108   2.19006493]]\n"
          ]
        }
      ]
    },
    {
      "cell_type": "code",
      "source": [
        "print(x_test)"
      ],
      "metadata": {
        "colab": {
          "base_uri": "https://localhost:8080/"
        },
        "id": "GpUbctsaAX3r",
        "outputId": "ea963c67-de20-49c5-dd76-83ba1fe1f40a"
      },
      "execution_count": 176,
      "outputs": [
        {
          "output_type": "stream",
          "name": "stdout",
          "text": [
            "[[ 0.          0.          1.         -0.37796447 -0.37796447 -0.37796447\n",
            "  -0.37796447 -0.37796447 -0.37796447  0.         -1.97684465 -1.77584742]\n",
            " [ 0.          0.          0.         -0.37796447 -0.37796447 -0.37796447\n",
            "  -0.37796447 -0.37796447 -0.37796447  1.          0.15662367  0.76233648]]\n"
          ]
        }
      ]
    }
  ]
}